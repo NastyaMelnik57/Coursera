{
 "cells": [
  {
   "cell_type": "code",
   "execution_count": 1,
   "metadata": {
    "collapsed": true
   },
   "outputs": [],
   "source": [
    "import networkx as nx"
   ]
  },
  {
   "cell_type": "markdown",
   "metadata": {},
   "source": [
    "## Сlustering coefficient"
   ]
  },
  {
   "cell_type": "code",
   "execution_count": 42,
   "metadata": {
    "collapsed": true
   },
   "outputs": [],
   "source": [
    "G = nx.Graph()\n",
    "G.add_edges_from([('A','K'), ('A', 'B'), ('A', 'C'), ('B', 'C'), ('B', 'K'), ('C', 'E'), ('C', 'F'), ('D', 'E'), ('E', 'F'),\n",
    "                 ('E', 'H'), ('F', 'G'), ('I', 'J')])"
   ]
  },
  {
   "cell_type": "code",
   "execution_count": 5,
   "metadata": {},
   "outputs": [
    {
     "data": {
      "application/javascript": [
       "/* Put everything inside the global mpl namespace */\n",
       "window.mpl = {};\n",
       "\n",
       "\n",
       "mpl.get_websocket_type = function() {\n",
       "    if (typeof(WebSocket) !== 'undefined') {\n",
       "        return WebSocket;\n",
       "    } else if (typeof(MozWebSocket) !== 'undefined') {\n",
       "        return MozWebSocket;\n",
       "    } else {\n",
       "        alert('Your browser does not have WebSocket support.' +\n",
       "              'Please try Chrome, Safari or Firefox ≥ 6. ' +\n",
       "              'Firefox 4 and 5 are also supported but you ' +\n",
       "              'have to enable WebSockets in about:config.');\n",
       "    };\n",
       "}\n",
       "\n",
       "mpl.figure = function(figure_id, websocket, ondownload, parent_element) {\n",
       "    this.id = figure_id;\n",
       "\n",
       "    this.ws = websocket;\n",
       "\n",
       "    this.supports_binary = (this.ws.binaryType != undefined);\n",
       "\n",
       "    if (!this.supports_binary) {\n",
       "        var warnings = document.getElementById(\"mpl-warnings\");\n",
       "        if (warnings) {\n",
       "            warnings.style.display = 'block';\n",
       "            warnings.textContent = (\n",
       "                \"This browser does not support binary websocket messages. \" +\n",
       "                    \"Performance may be slow.\");\n",
       "        }\n",
       "    }\n",
       "\n",
       "    this.imageObj = new Image();\n",
       "\n",
       "    this.context = undefined;\n",
       "    this.message = undefined;\n",
       "    this.canvas = undefined;\n",
       "    this.rubberband_canvas = undefined;\n",
       "    this.rubberband_context = undefined;\n",
       "    this.format_dropdown = undefined;\n",
       "\n",
       "    this.image_mode = 'full';\n",
       "\n",
       "    this.root = $('<div/>');\n",
       "    this._root_extra_style(this.root)\n",
       "    this.root.attr('style', 'display: inline-block');\n",
       "\n",
       "    $(parent_element).append(this.root);\n",
       "\n",
       "    this._init_header(this);\n",
       "    this._init_canvas(this);\n",
       "    this._init_toolbar(this);\n",
       "\n",
       "    var fig = this;\n",
       "\n",
       "    this.waiting = false;\n",
       "\n",
       "    this.ws.onopen =  function () {\n",
       "            fig.send_message(\"supports_binary\", {value: fig.supports_binary});\n",
       "            fig.send_message(\"send_image_mode\", {});\n",
       "            if (mpl.ratio != 1) {\n",
       "                fig.send_message(\"set_dpi_ratio\", {'dpi_ratio': mpl.ratio});\n",
       "            }\n",
       "            fig.send_message(\"refresh\", {});\n",
       "        }\n",
       "\n",
       "    this.imageObj.onload = function() {\n",
       "            if (fig.image_mode == 'full') {\n",
       "                // Full images could contain transparency (where diff images\n",
       "                // almost always do), so we need to clear the canvas so that\n",
       "                // there is no ghosting.\n",
       "                fig.context.clearRect(0, 0, fig.canvas.width, fig.canvas.height);\n",
       "            }\n",
       "            fig.context.drawImage(fig.imageObj, 0, 0);\n",
       "        };\n",
       "\n",
       "    this.imageObj.onunload = function() {\n",
       "        this.ws.close();\n",
       "    }\n",
       "\n",
       "    this.ws.onmessage = this._make_on_message_function(this);\n",
       "\n",
       "    this.ondownload = ondownload;\n",
       "}\n",
       "\n",
       "mpl.figure.prototype._init_header = function() {\n",
       "    var titlebar = $(\n",
       "        '<div class=\"ui-dialog-titlebar ui-widget-header ui-corner-all ' +\n",
       "        'ui-helper-clearfix\"/>');\n",
       "    var titletext = $(\n",
       "        '<div class=\"ui-dialog-title\" style=\"width: 100%; ' +\n",
       "        'text-align: center; padding: 3px;\"/>');\n",
       "    titlebar.append(titletext)\n",
       "    this.root.append(titlebar);\n",
       "    this.header = titletext[0];\n",
       "}\n",
       "\n",
       "\n",
       "\n",
       "mpl.figure.prototype._canvas_extra_style = function(canvas_div) {\n",
       "\n",
       "}\n",
       "\n",
       "\n",
       "mpl.figure.prototype._root_extra_style = function(canvas_div) {\n",
       "\n",
       "}\n",
       "\n",
       "mpl.figure.prototype._init_canvas = function() {\n",
       "    var fig = this;\n",
       "\n",
       "    var canvas_div = $('<div/>');\n",
       "\n",
       "    canvas_div.attr('style', 'position: relative; clear: both; outline: 0');\n",
       "\n",
       "    function canvas_keyboard_event(event) {\n",
       "        return fig.key_event(event, event['data']);\n",
       "    }\n",
       "\n",
       "    canvas_div.keydown('key_press', canvas_keyboard_event);\n",
       "    canvas_div.keyup('key_release', canvas_keyboard_event);\n",
       "    this.canvas_div = canvas_div\n",
       "    this._canvas_extra_style(canvas_div)\n",
       "    this.root.append(canvas_div);\n",
       "\n",
       "    var canvas = $('<canvas/>');\n",
       "    canvas.addClass('mpl-canvas');\n",
       "    canvas.attr('style', \"left: 0; top: 0; z-index: 0; outline: 0\")\n",
       "\n",
       "    this.canvas = canvas[0];\n",
       "    this.context = canvas[0].getContext(\"2d\");\n",
       "\n",
       "    var backingStore = this.context.backingStorePixelRatio ||\n",
       "\tthis.context.webkitBackingStorePixelRatio ||\n",
       "\tthis.context.mozBackingStorePixelRatio ||\n",
       "\tthis.context.msBackingStorePixelRatio ||\n",
       "\tthis.context.oBackingStorePixelRatio ||\n",
       "\tthis.context.backingStorePixelRatio || 1;\n",
       "\n",
       "    mpl.ratio = (window.devicePixelRatio || 1) / backingStore;\n",
       "\n",
       "    var rubberband = $('<canvas/>');\n",
       "    rubberband.attr('style', \"position: absolute; left: 0; top: 0; z-index: 1;\")\n",
       "\n",
       "    var pass_mouse_events = true;\n",
       "\n",
       "    canvas_div.resizable({\n",
       "        start: function(event, ui) {\n",
       "            pass_mouse_events = false;\n",
       "        },\n",
       "        resize: function(event, ui) {\n",
       "            fig.request_resize(ui.size.width, ui.size.height);\n",
       "        },\n",
       "        stop: function(event, ui) {\n",
       "            pass_mouse_events = true;\n",
       "            fig.request_resize(ui.size.width, ui.size.height);\n",
       "        },\n",
       "    });\n",
       "\n",
       "    function mouse_event_fn(event) {\n",
       "        if (pass_mouse_events)\n",
       "            return fig.mouse_event(event, event['data']);\n",
       "    }\n",
       "\n",
       "    rubberband.mousedown('button_press', mouse_event_fn);\n",
       "    rubberband.mouseup('button_release', mouse_event_fn);\n",
       "    // Throttle sequential mouse events to 1 every 20ms.\n",
       "    rubberband.mousemove('motion_notify', mouse_event_fn);\n",
       "\n",
       "    rubberband.mouseenter('figure_enter', mouse_event_fn);\n",
       "    rubberband.mouseleave('figure_leave', mouse_event_fn);\n",
       "\n",
       "    canvas_div.on(\"wheel\", function (event) {\n",
       "        event = event.originalEvent;\n",
       "        event['data'] = 'scroll'\n",
       "        if (event.deltaY < 0) {\n",
       "            event.step = 1;\n",
       "        } else {\n",
       "            event.step = -1;\n",
       "        }\n",
       "        mouse_event_fn(event);\n",
       "    });\n",
       "\n",
       "    canvas_div.append(canvas);\n",
       "    canvas_div.append(rubberband);\n",
       "\n",
       "    this.rubberband = rubberband;\n",
       "    this.rubberband_canvas = rubberband[0];\n",
       "    this.rubberband_context = rubberband[0].getContext(\"2d\");\n",
       "    this.rubberband_context.strokeStyle = \"#000000\";\n",
       "\n",
       "    this._resize_canvas = function(width, height) {\n",
       "        // Keep the size of the canvas, canvas container, and rubber band\n",
       "        // canvas in synch.\n",
       "        canvas_div.css('width', width)\n",
       "        canvas_div.css('height', height)\n",
       "\n",
       "        canvas.attr('width', width * mpl.ratio);\n",
       "        canvas.attr('height', height * mpl.ratio);\n",
       "        canvas.attr('style', 'width: ' + width + 'px; height: ' + height + 'px;');\n",
       "\n",
       "        rubberband.attr('width', width);\n",
       "        rubberband.attr('height', height);\n",
       "    }\n",
       "\n",
       "    // Set the figure to an initial 600x600px, this will subsequently be updated\n",
       "    // upon first draw.\n",
       "    this._resize_canvas(600, 600);\n",
       "\n",
       "    // Disable right mouse context menu.\n",
       "    $(this.rubberband_canvas).bind(\"contextmenu\",function(e){\n",
       "        return false;\n",
       "    });\n",
       "\n",
       "    function set_focus () {\n",
       "        canvas.focus();\n",
       "        canvas_div.focus();\n",
       "    }\n",
       "\n",
       "    window.setTimeout(set_focus, 100);\n",
       "}\n",
       "\n",
       "mpl.figure.prototype._init_toolbar = function() {\n",
       "    var fig = this;\n",
       "\n",
       "    var nav_element = $('<div/>')\n",
       "    nav_element.attr('style', 'width: 100%');\n",
       "    this.root.append(nav_element);\n",
       "\n",
       "    // Define a callback function for later on.\n",
       "    function toolbar_event(event) {\n",
       "        return fig.toolbar_button_onclick(event['data']);\n",
       "    }\n",
       "    function toolbar_mouse_event(event) {\n",
       "        return fig.toolbar_button_onmouseover(event['data']);\n",
       "    }\n",
       "\n",
       "    for(var toolbar_ind in mpl.toolbar_items) {\n",
       "        var name = mpl.toolbar_items[toolbar_ind][0];\n",
       "        var tooltip = mpl.toolbar_items[toolbar_ind][1];\n",
       "        var image = mpl.toolbar_items[toolbar_ind][2];\n",
       "        var method_name = mpl.toolbar_items[toolbar_ind][3];\n",
       "\n",
       "        if (!name) {\n",
       "            // put a spacer in here.\n",
       "            continue;\n",
       "        }\n",
       "        var button = $('<button/>');\n",
       "        button.addClass('ui-button ui-widget ui-state-default ui-corner-all ' +\n",
       "                        'ui-button-icon-only');\n",
       "        button.attr('role', 'button');\n",
       "        button.attr('aria-disabled', 'false');\n",
       "        button.click(method_name, toolbar_event);\n",
       "        button.mouseover(tooltip, toolbar_mouse_event);\n",
       "\n",
       "        var icon_img = $('<span/>');\n",
       "        icon_img.addClass('ui-button-icon-primary ui-icon');\n",
       "        icon_img.addClass(image);\n",
       "        icon_img.addClass('ui-corner-all');\n",
       "\n",
       "        var tooltip_span = $('<span/>');\n",
       "        tooltip_span.addClass('ui-button-text');\n",
       "        tooltip_span.html(tooltip);\n",
       "\n",
       "        button.append(icon_img);\n",
       "        button.append(tooltip_span);\n",
       "\n",
       "        nav_element.append(button);\n",
       "    }\n",
       "\n",
       "    var fmt_picker_span = $('<span/>');\n",
       "\n",
       "    var fmt_picker = $('<select/>');\n",
       "    fmt_picker.addClass('mpl-toolbar-option ui-widget ui-widget-content');\n",
       "    fmt_picker_span.append(fmt_picker);\n",
       "    nav_element.append(fmt_picker_span);\n",
       "    this.format_dropdown = fmt_picker[0];\n",
       "\n",
       "    for (var ind in mpl.extensions) {\n",
       "        var fmt = mpl.extensions[ind];\n",
       "        var option = $(\n",
       "            '<option/>', {selected: fmt === mpl.default_extension}).html(fmt);\n",
       "        fmt_picker.append(option)\n",
       "    }\n",
       "\n",
       "    // Add hover states to the ui-buttons\n",
       "    $( \".ui-button\" ).hover(\n",
       "        function() { $(this).addClass(\"ui-state-hover\");},\n",
       "        function() { $(this).removeClass(\"ui-state-hover\");}\n",
       "    );\n",
       "\n",
       "    var status_bar = $('<span class=\"mpl-message\"/>');\n",
       "    nav_element.append(status_bar);\n",
       "    this.message = status_bar[0];\n",
       "}\n",
       "\n",
       "mpl.figure.prototype.request_resize = function(x_pixels, y_pixels) {\n",
       "    // Request matplotlib to resize the figure. Matplotlib will then trigger a resize in the client,\n",
       "    // which will in turn request a refresh of the image.\n",
       "    this.send_message('resize', {'width': x_pixels, 'height': y_pixels});\n",
       "}\n",
       "\n",
       "mpl.figure.prototype.send_message = function(type, properties) {\n",
       "    properties['type'] = type;\n",
       "    properties['figure_id'] = this.id;\n",
       "    this.ws.send(JSON.stringify(properties));\n",
       "}\n",
       "\n",
       "mpl.figure.prototype.send_draw_message = function() {\n",
       "    if (!this.waiting) {\n",
       "        this.waiting = true;\n",
       "        this.ws.send(JSON.stringify({type: \"draw\", figure_id: this.id}));\n",
       "    }\n",
       "}\n",
       "\n",
       "\n",
       "mpl.figure.prototype.handle_save = function(fig, msg) {\n",
       "    var format_dropdown = fig.format_dropdown;\n",
       "    var format = format_dropdown.options[format_dropdown.selectedIndex].value;\n",
       "    fig.ondownload(fig, format);\n",
       "}\n",
       "\n",
       "\n",
       "mpl.figure.prototype.handle_resize = function(fig, msg) {\n",
       "    var size = msg['size'];\n",
       "    if (size[0] != fig.canvas.width || size[1] != fig.canvas.height) {\n",
       "        fig._resize_canvas(size[0], size[1]);\n",
       "        fig.send_message(\"refresh\", {});\n",
       "    };\n",
       "}\n",
       "\n",
       "mpl.figure.prototype.handle_rubberband = function(fig, msg) {\n",
       "    var x0 = msg['x0'] / mpl.ratio;\n",
       "    var y0 = (fig.canvas.height - msg['y0']) / mpl.ratio;\n",
       "    var x1 = msg['x1'] / mpl.ratio;\n",
       "    var y1 = (fig.canvas.height - msg['y1']) / mpl.ratio;\n",
       "    x0 = Math.floor(x0) + 0.5;\n",
       "    y0 = Math.floor(y0) + 0.5;\n",
       "    x1 = Math.floor(x1) + 0.5;\n",
       "    y1 = Math.floor(y1) + 0.5;\n",
       "    var min_x = Math.min(x0, x1);\n",
       "    var min_y = Math.min(y0, y1);\n",
       "    var width = Math.abs(x1 - x0);\n",
       "    var height = Math.abs(y1 - y0);\n",
       "\n",
       "    fig.rubberband_context.clearRect(\n",
       "        0, 0, fig.canvas.width, fig.canvas.height);\n",
       "\n",
       "    fig.rubberband_context.strokeRect(min_x, min_y, width, height);\n",
       "}\n",
       "\n",
       "mpl.figure.prototype.handle_figure_label = function(fig, msg) {\n",
       "    // Updates the figure title.\n",
       "    fig.header.textContent = msg['label'];\n",
       "}\n",
       "\n",
       "mpl.figure.prototype.handle_cursor = function(fig, msg) {\n",
       "    var cursor = msg['cursor'];\n",
       "    switch(cursor)\n",
       "    {\n",
       "    case 0:\n",
       "        cursor = 'pointer';\n",
       "        break;\n",
       "    case 1:\n",
       "        cursor = 'default';\n",
       "        break;\n",
       "    case 2:\n",
       "        cursor = 'crosshair';\n",
       "        break;\n",
       "    case 3:\n",
       "        cursor = 'move';\n",
       "        break;\n",
       "    }\n",
       "    fig.rubberband_canvas.style.cursor = cursor;\n",
       "}\n",
       "\n",
       "mpl.figure.prototype.handle_message = function(fig, msg) {\n",
       "    fig.message.textContent = msg['message'];\n",
       "}\n",
       "\n",
       "mpl.figure.prototype.handle_draw = function(fig, msg) {\n",
       "    // Request the server to send over a new figure.\n",
       "    fig.send_draw_message();\n",
       "}\n",
       "\n",
       "mpl.figure.prototype.handle_image_mode = function(fig, msg) {\n",
       "    fig.image_mode = msg['mode'];\n",
       "}\n",
       "\n",
       "mpl.figure.prototype.updated_canvas_event = function() {\n",
       "    // Called whenever the canvas gets updated.\n",
       "    this.send_message(\"ack\", {});\n",
       "}\n",
       "\n",
       "// A function to construct a web socket function for onmessage handling.\n",
       "// Called in the figure constructor.\n",
       "mpl.figure.prototype._make_on_message_function = function(fig) {\n",
       "    return function socket_on_message(evt) {\n",
       "        if (evt.data instanceof Blob) {\n",
       "            /* FIXME: We get \"Resource interpreted as Image but\n",
       "             * transferred with MIME type text/plain:\" errors on\n",
       "             * Chrome.  But how to set the MIME type?  It doesn't seem\n",
       "             * to be part of the websocket stream */\n",
       "            evt.data.type = \"image/png\";\n",
       "\n",
       "            /* Free the memory for the previous frames */\n",
       "            if (fig.imageObj.src) {\n",
       "                (window.URL || window.webkitURL).revokeObjectURL(\n",
       "                    fig.imageObj.src);\n",
       "            }\n",
       "\n",
       "            fig.imageObj.src = (window.URL || window.webkitURL).createObjectURL(\n",
       "                evt.data);\n",
       "            fig.updated_canvas_event();\n",
       "            fig.waiting = false;\n",
       "            return;\n",
       "        }\n",
       "        else if (typeof evt.data === 'string' && evt.data.slice(0, 21) == \"data:image/png;base64\") {\n",
       "            fig.imageObj.src = evt.data;\n",
       "            fig.updated_canvas_event();\n",
       "            fig.waiting = false;\n",
       "            return;\n",
       "        }\n",
       "\n",
       "        var msg = JSON.parse(evt.data);\n",
       "        var msg_type = msg['type'];\n",
       "\n",
       "        // Call the  \"handle_{type}\" callback, which takes\n",
       "        // the figure and JSON message as its only arguments.\n",
       "        try {\n",
       "            var callback = fig[\"handle_\" + msg_type];\n",
       "        } catch (e) {\n",
       "            console.log(\"No handler for the '\" + msg_type + \"' message type: \", msg);\n",
       "            return;\n",
       "        }\n",
       "\n",
       "        if (callback) {\n",
       "            try {\n",
       "                // console.log(\"Handling '\" + msg_type + \"' message: \", msg);\n",
       "                callback(fig, msg);\n",
       "            } catch (e) {\n",
       "                console.log(\"Exception inside the 'handler_\" + msg_type + \"' callback:\", e, e.stack, msg);\n",
       "            }\n",
       "        }\n",
       "    };\n",
       "}\n",
       "\n",
       "// from http://stackoverflow.com/questions/1114465/getting-mouse-location-in-canvas\n",
       "mpl.findpos = function(e) {\n",
       "    //this section is from http://www.quirksmode.org/js/events_properties.html\n",
       "    var targ;\n",
       "    if (!e)\n",
       "        e = window.event;\n",
       "    if (e.target)\n",
       "        targ = e.target;\n",
       "    else if (e.srcElement)\n",
       "        targ = e.srcElement;\n",
       "    if (targ.nodeType == 3) // defeat Safari bug\n",
       "        targ = targ.parentNode;\n",
       "\n",
       "    // jQuery normalizes the pageX and pageY\n",
       "    // pageX,Y are the mouse positions relative to the document\n",
       "    // offset() returns the position of the element relative to the document\n",
       "    var x = e.pageX - $(targ).offset().left;\n",
       "    var y = e.pageY - $(targ).offset().top;\n",
       "\n",
       "    return {\"x\": x, \"y\": y};\n",
       "};\n",
       "\n",
       "/*\n",
       " * return a copy of an object with only non-object keys\n",
       " * we need this to avoid circular references\n",
       " * http://stackoverflow.com/a/24161582/3208463\n",
       " */\n",
       "function simpleKeys (original) {\n",
       "  return Object.keys(original).reduce(function (obj, key) {\n",
       "    if (typeof original[key] !== 'object')\n",
       "        obj[key] = original[key]\n",
       "    return obj;\n",
       "  }, {});\n",
       "}\n",
       "\n",
       "mpl.figure.prototype.mouse_event = function(event, name) {\n",
       "    var canvas_pos = mpl.findpos(event)\n",
       "\n",
       "    if (name === 'button_press')\n",
       "    {\n",
       "        this.canvas.focus();\n",
       "        this.canvas_div.focus();\n",
       "    }\n",
       "\n",
       "    var x = canvas_pos.x * mpl.ratio;\n",
       "    var y = canvas_pos.y * mpl.ratio;\n",
       "\n",
       "    this.send_message(name, {x: x, y: y, button: event.button,\n",
       "                             step: event.step,\n",
       "                             guiEvent: simpleKeys(event)});\n",
       "\n",
       "    /* This prevents the web browser from automatically changing to\n",
       "     * the text insertion cursor when the button is pressed.  We want\n",
       "     * to control all of the cursor setting manually through the\n",
       "     * 'cursor' event from matplotlib */\n",
       "    event.preventDefault();\n",
       "    return false;\n",
       "}\n",
       "\n",
       "mpl.figure.prototype._key_event_extra = function(event, name) {\n",
       "    // Handle any extra behaviour associated with a key event\n",
       "}\n",
       "\n",
       "mpl.figure.prototype.key_event = function(event, name) {\n",
       "\n",
       "    // Prevent repeat events\n",
       "    if (name == 'key_press')\n",
       "    {\n",
       "        if (event.which === this._key)\n",
       "            return;\n",
       "        else\n",
       "            this._key = event.which;\n",
       "    }\n",
       "    if (name == 'key_release')\n",
       "        this._key = null;\n",
       "\n",
       "    var value = '';\n",
       "    if (event.ctrlKey && event.which != 17)\n",
       "        value += \"ctrl+\";\n",
       "    if (event.altKey && event.which != 18)\n",
       "        value += \"alt+\";\n",
       "    if (event.shiftKey && event.which != 16)\n",
       "        value += \"shift+\";\n",
       "\n",
       "    value += 'k';\n",
       "    value += event.which.toString();\n",
       "\n",
       "    this._key_event_extra(event, name);\n",
       "\n",
       "    this.send_message(name, {key: value,\n",
       "                             guiEvent: simpleKeys(event)});\n",
       "    return false;\n",
       "}\n",
       "\n",
       "mpl.figure.prototype.toolbar_button_onclick = function(name) {\n",
       "    if (name == 'download') {\n",
       "        this.handle_save(this, null);\n",
       "    } else {\n",
       "        this.send_message(\"toolbar_button\", {name: name});\n",
       "    }\n",
       "};\n",
       "\n",
       "mpl.figure.prototype.toolbar_button_onmouseover = function(tooltip) {\n",
       "    this.message.textContent = tooltip;\n",
       "};\n",
       "mpl.toolbar_items = [[\"Home\", \"Reset original view\", \"fa fa-home icon-home\", \"home\"], [\"Back\", \"Back to  previous view\", \"fa fa-arrow-left icon-arrow-left\", \"back\"], [\"Forward\", \"Forward to next view\", \"fa fa-arrow-right icon-arrow-right\", \"forward\"], [\"\", \"\", \"\", \"\"], [\"Pan\", \"Pan axes with left mouse, zoom with right\", \"fa fa-arrows icon-move\", \"pan\"], [\"Zoom\", \"Zoom to rectangle\", \"fa fa-square-o icon-check-empty\", \"zoom\"], [\"\", \"\", \"\", \"\"], [\"Download\", \"Download plot\", \"fa fa-floppy-o icon-save\", \"download\"]];\n",
       "\n",
       "mpl.extensions = [\"eps\", \"jpeg\", \"pdf\", \"png\", \"ps\", \"raw\", \"svg\", \"tif\"];\n",
       "\n",
       "mpl.default_extension = \"png\";var comm_websocket_adapter = function(comm) {\n",
       "    // Create a \"websocket\"-like object which calls the given IPython comm\n",
       "    // object with the appropriate methods. Currently this is a non binary\n",
       "    // socket, so there is still some room for performance tuning.\n",
       "    var ws = {};\n",
       "\n",
       "    ws.close = function() {\n",
       "        comm.close()\n",
       "    };\n",
       "    ws.send = function(m) {\n",
       "        //console.log('sending', m);\n",
       "        comm.send(m);\n",
       "    };\n",
       "    // Register the callback with on_msg.\n",
       "    comm.on_msg(function(msg) {\n",
       "        //console.log('receiving', msg['content']['data'], msg);\n",
       "        // Pass the mpl event to the overriden (by mpl) onmessage function.\n",
       "        ws.onmessage(msg['content']['data'])\n",
       "    });\n",
       "    return ws;\n",
       "}\n",
       "\n",
       "mpl.mpl_figure_comm = function(comm, msg) {\n",
       "    // This is the function which gets called when the mpl process\n",
       "    // starts-up an IPython Comm through the \"matplotlib\" channel.\n",
       "\n",
       "    var id = msg.content.data.id;\n",
       "    // Get hold of the div created by the display call when the Comm\n",
       "    // socket was opened in Python.\n",
       "    var element = $(\"#\" + id);\n",
       "    var ws_proxy = comm_websocket_adapter(comm)\n",
       "\n",
       "    function ondownload(figure, format) {\n",
       "        window.open(figure.imageObj.src);\n",
       "    }\n",
       "\n",
       "    var fig = new mpl.figure(id, ws_proxy,\n",
       "                           ondownload,\n",
       "                           element.get(0));\n",
       "\n",
       "    // Call onopen now - mpl needs it, as it is assuming we've passed it a real\n",
       "    // web socket which is closed, not our websocket->open comm proxy.\n",
       "    ws_proxy.onopen();\n",
       "\n",
       "    fig.parent_element = element.get(0);\n",
       "    fig.cell_info = mpl.find_output_cell(\"<div id='\" + id + \"'></div>\");\n",
       "    if (!fig.cell_info) {\n",
       "        console.error(\"Failed to find cell for figure\", id, fig);\n",
       "        return;\n",
       "    }\n",
       "\n",
       "    var output_index = fig.cell_info[2]\n",
       "    var cell = fig.cell_info[0];\n",
       "\n",
       "};\n",
       "\n",
       "mpl.figure.prototype.handle_close = function(fig, msg) {\n",
       "    var width = fig.canvas.width/mpl.ratio\n",
       "    fig.root.unbind('remove')\n",
       "\n",
       "    // Update the output cell to use the data from the current canvas.\n",
       "    fig.push_to_output();\n",
       "    var dataURL = fig.canvas.toDataURL();\n",
       "    // Re-enable the keyboard manager in IPython - without this line, in FF,\n",
       "    // the notebook keyboard shortcuts fail.\n",
       "    IPython.keyboard_manager.enable()\n",
       "    $(fig.parent_element).html('<img src=\"' + dataURL + '\" width=\"' + width + '\">');\n",
       "    fig.close_ws(fig, msg);\n",
       "}\n",
       "\n",
       "mpl.figure.prototype.close_ws = function(fig, msg){\n",
       "    fig.send_message('closing', msg);\n",
       "    // fig.ws.close()\n",
       "}\n",
       "\n",
       "mpl.figure.prototype.push_to_output = function(remove_interactive) {\n",
       "    // Turn the data on the canvas into data in the output cell.\n",
       "    var width = this.canvas.width/mpl.ratio\n",
       "    var dataURL = this.canvas.toDataURL();\n",
       "    this.cell_info[1]['text/html'] = '<img src=\"' + dataURL + '\" width=\"' + width + '\">';\n",
       "}\n",
       "\n",
       "mpl.figure.prototype.updated_canvas_event = function() {\n",
       "    // Tell IPython that the notebook contents must change.\n",
       "    IPython.notebook.set_dirty(true);\n",
       "    this.send_message(\"ack\", {});\n",
       "    var fig = this;\n",
       "    // Wait a second, then push the new image to the DOM so\n",
       "    // that it is saved nicely (might be nice to debounce this).\n",
       "    setTimeout(function () { fig.push_to_output() }, 1000);\n",
       "}\n",
       "\n",
       "mpl.figure.prototype._init_toolbar = function() {\n",
       "    var fig = this;\n",
       "\n",
       "    var nav_element = $('<div/>')\n",
       "    nav_element.attr('style', 'width: 100%');\n",
       "    this.root.append(nav_element);\n",
       "\n",
       "    // Define a callback function for later on.\n",
       "    function toolbar_event(event) {\n",
       "        return fig.toolbar_button_onclick(event['data']);\n",
       "    }\n",
       "    function toolbar_mouse_event(event) {\n",
       "        return fig.toolbar_button_onmouseover(event['data']);\n",
       "    }\n",
       "\n",
       "    for(var toolbar_ind in mpl.toolbar_items){\n",
       "        var name = mpl.toolbar_items[toolbar_ind][0];\n",
       "        var tooltip = mpl.toolbar_items[toolbar_ind][1];\n",
       "        var image = mpl.toolbar_items[toolbar_ind][2];\n",
       "        var method_name = mpl.toolbar_items[toolbar_ind][3];\n",
       "\n",
       "        if (!name) { continue; };\n",
       "\n",
       "        var button = $('<button class=\"btn btn-default\" href=\"#\" title=\"' + name + '\"><i class=\"fa ' + image + ' fa-lg\"></i></button>');\n",
       "        button.click(method_name, toolbar_event);\n",
       "        button.mouseover(tooltip, toolbar_mouse_event);\n",
       "        nav_element.append(button);\n",
       "    }\n",
       "\n",
       "    // Add the status bar.\n",
       "    var status_bar = $('<span class=\"mpl-message\" style=\"text-align:right; float: right;\"/>');\n",
       "    nav_element.append(status_bar);\n",
       "    this.message = status_bar[0];\n",
       "\n",
       "    // Add the close button to the window.\n",
       "    var buttongrp = $('<div class=\"btn-group inline pull-right\"></div>');\n",
       "    var button = $('<button class=\"btn btn-mini btn-primary\" href=\"#\" title=\"Stop Interaction\"><i class=\"fa fa-power-off icon-remove icon-large\"></i></button>');\n",
       "    button.click(function (evt) { fig.handle_close(fig, {}); } );\n",
       "    button.mouseover('Stop Interaction', toolbar_mouse_event);\n",
       "    buttongrp.append(button);\n",
       "    var titlebar = this.root.find($('.ui-dialog-titlebar'));\n",
       "    titlebar.prepend(buttongrp);\n",
       "}\n",
       "\n",
       "mpl.figure.prototype._root_extra_style = function(el){\n",
       "    var fig = this\n",
       "    el.on(\"remove\", function(){\n",
       "\tfig.close_ws(fig, {});\n",
       "    });\n",
       "}\n",
       "\n",
       "mpl.figure.prototype._canvas_extra_style = function(el){\n",
       "    // this is important to make the div 'focusable\n",
       "    el.attr('tabindex', 0)\n",
       "    // reach out to IPython and tell the keyboard manager to turn it's self\n",
       "    // off when our div gets focus\n",
       "\n",
       "    // location in version 3\n",
       "    if (IPython.notebook.keyboard_manager) {\n",
       "        IPython.notebook.keyboard_manager.register_events(el);\n",
       "    }\n",
       "    else {\n",
       "        // location in version 2\n",
       "        IPython.keyboard_manager.register_events(el);\n",
       "    }\n",
       "\n",
       "}\n",
       "\n",
       "mpl.figure.prototype._key_event_extra = function(event, name) {\n",
       "    var manager = IPython.notebook.keyboard_manager;\n",
       "    if (!manager)\n",
       "        manager = IPython.keyboard_manager;\n",
       "\n",
       "    // Check for shift+enter\n",
       "    if (event.shiftKey && event.which == 13) {\n",
       "        this.canvas_div.blur();\n",
       "        // select the cell after this one\n",
       "        var index = IPython.notebook.find_cell_index(this.cell_info[0]);\n",
       "        IPython.notebook.select(index + 1);\n",
       "    }\n",
       "}\n",
       "\n",
       "mpl.figure.prototype.handle_save = function(fig, msg) {\n",
       "    fig.ondownload(fig, null);\n",
       "}\n",
       "\n",
       "\n",
       "mpl.find_output_cell = function(html_output) {\n",
       "    // Return the cell and output element which can be found *uniquely* in the notebook.\n",
       "    // Note - this is a bit hacky, but it is done because the \"notebook_saving.Notebook\"\n",
       "    // IPython event is triggered only after the cells have been serialised, which for\n",
       "    // our purposes (turning an active figure into a static one), is too late.\n",
       "    var cells = IPython.notebook.get_cells();\n",
       "    var ncells = cells.length;\n",
       "    for (var i=0; i<ncells; i++) {\n",
       "        var cell = cells[i];\n",
       "        if (cell.cell_type === 'code'){\n",
       "            for (var j=0; j<cell.output_area.outputs.length; j++) {\n",
       "                var data = cell.output_area.outputs[j];\n",
       "                if (data.data) {\n",
       "                    // IPython >= 3 moved mimebundle to data attribute of output\n",
       "                    data = data.data;\n",
       "                }\n",
       "                if (data['text/html'] == html_output) {\n",
       "                    return [cell, data, j];\n",
       "                }\n",
       "            }\n",
       "        }\n",
       "    }\n",
       "}\n",
       "\n",
       "// Register the function which deals with the matplotlib target/channel.\n",
       "// The kernel may be null if the page has been refreshed.\n",
       "if (IPython.notebook.kernel != null) {\n",
       "    IPython.notebook.kernel.comm_manager.register_target('matplotlib', mpl.mpl_figure_comm);\n",
       "}\n"
      ],
      "text/plain": [
       "<IPython.core.display.Javascript object>"
      ]
     },
     "metadata": {},
     "output_type": "display_data"
    },
    {
     "data": {
      "text/html": [
       "<img src=\"data:image/png;base64,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\" width=\"639.999990463257\">"
      ],
      "text/plain": [
       "<IPython.core.display.HTML object>"
      ]
     },
     "metadata": {},
     "output_type": "display_data"
    }
   ],
   "source": [
    "%matplotlib notebook\n",
    "nx.draw_networkx(G)"
   ]
  },
  {
   "cell_type": "markdown",
   "metadata": {},
   "source": [
    "У вершины C 4 соседа => 6 пар соседей, из них только в двух соседи соединены (E-F, B-A) => coeff = 1/3"
   ]
  },
  {
   "cell_type": "code",
   "execution_count": 8,
   "metadata": {},
   "outputs": [
    {
     "data": {
      "text/plain": [
       "0.3333333333333333"
      ]
     },
     "execution_count": 8,
     "metadata": {},
     "output_type": "execute_result"
    }
   ],
   "source": [
    "nx.clustering(G, 'C')"
   ]
  },
  {
   "cell_type": "markdown",
   "metadata": {},
   "source": [
    "Чтобы посчитать кластерный коэффицент для всего графа, можно:\n",
    "    - взять среднее от локальных коэффициентов\n",
    "    - посчитать процент open triads, находящихся в closed triads"
   ]
  },
  {
   "cell_type": "code",
   "execution_count": 9,
   "metadata": {},
   "outputs": [
    {
     "data": {
      "text/plain": [
       "0.28787878787878785"
      ]
     },
     "execution_count": 9,
     "metadata": {},
     "output_type": "execute_result"
    }
   ],
   "source": [
    "nx.average_clustering(G)"
   ]
  },
  {
   "cell_type": "code",
   "execution_count": 10,
   "metadata": {},
   "outputs": [
    {
     "data": {
      "text/plain": [
       "0.4090909090909091"
      ]
     },
     "execution_count": 10,
     "metadata": {},
     "output_type": "execute_result"
    }
   ],
   "source": [
    "nx.transitivity(G)"
   ]
  },
  {
   "cell_type": "markdown",
   "metadata": {},
   "source": [
    "## Distance measuring"
   ]
  },
  {
   "cell_type": "code",
   "execution_count": 12,
   "metadata": {},
   "outputs": [
    {
     "data": {
      "text/plain": [
       "['A', 'C', 'E', 'H']"
      ]
     },
     "execution_count": 12,
     "metadata": {},
     "output_type": "execute_result"
    }
   ],
   "source": [
    "nx.shortest_path(G, 'A', 'H')"
   ]
  },
  {
   "cell_type": "code",
   "execution_count": 13,
   "metadata": {},
   "outputs": [
    {
     "data": {
      "text/plain": [
       "3"
      ]
     },
     "execution_count": 13,
     "metadata": {},
     "output_type": "execute_result"
    }
   ],
   "source": [
    "nx.shortest_path_length(G, 'A', 'H')"
   ]
  },
  {
   "cell_type": "markdown",
   "metadata": {},
   "source": [
    "Breadth-first Search (поиск в ширину) позволяет найти все пути от вершины i к другим вершинам графа."
   ]
  },
  {
   "cell_type": "code",
   "execution_count": 17,
   "metadata": {},
   "outputs": [
    {
     "data": {
      "text/plain": [
       "[('A', 'K'),\n",
       " ('A', 'B'),\n",
       " ('A', 'C'),\n",
       " ('C', 'E'),\n",
       " ('C', 'F'),\n",
       " ('E', 'D'),\n",
       " ('E', 'H'),\n",
       " ('F', 'G')]"
      ]
     },
     "execution_count": 17,
     "metadata": {},
     "output_type": "execute_result"
    }
   ],
   "source": [
    "Tree = nx.bfs_tree(G, 'A')\n",
    "Tree.edges()"
   ]
  },
  {
   "cell_type": "code",
   "execution_count": 18,
   "metadata": {},
   "outputs": [
    {
     "data": {
      "text/plain": [
       "{'A': 0, 'B': 1, 'C': 1, 'D': 3, 'E': 2, 'F': 2, 'G': 3, 'H': 3, 'K': 1}"
      ]
     },
     "execution_count": 18,
     "metadata": {},
     "output_type": "execute_result"
    }
   ],
   "source": [
    "nx.shortest_path_length(G, 'A')"
   ]
  },
  {
   "cell_type": "markdown",
   "metadata": {},
   "source": [
    "Средняя длина пути в графе."
   ]
  },
  {
   "cell_type": "code",
   "execution_count": 66,
   "metadata": {
    "collapsed": true
   },
   "outputs": [],
   "source": [
    "G1 = nx.Graph()\n",
    "G1.add_edges_from([('A','K'), ('A', 'B'), ('B', 'C'), ('B', 'K'), ('C', 'E'), ('C', 'F'), ('D', 'E'), ('E', 'F'),\n",
    "                 ('E', 'H'), ('F', 'G'), ('E', 'I'), ('I', 'J')])"
   ]
  },
  {
   "cell_type": "code",
   "execution_count": 22,
   "metadata": {},
   "outputs": [
    {
     "data": {
      "text/plain": [
       "2.5272727272727273"
      ]
     },
     "execution_count": 22,
     "metadata": {},
     "output_type": "execute_result"
    }
   ],
   "source": [
    "nx.average_shortest_path_length(G1)"
   ]
  },
  {
   "cell_type": "markdown",
   "metadata": {},
   "source": [
    "Диаметр графа - максимальная длина пути в графе."
   ]
  },
  {
   "cell_type": "code",
   "execution_count": 24,
   "metadata": {},
   "outputs": [
    {
     "data": {
      "text/plain": [
       "5"
      ]
     },
     "execution_count": 24,
     "metadata": {},
     "output_type": "execute_result"
    }
   ],
   "source": [
    "nx.diameter(G1)"
   ]
  },
  {
   "cell_type": "markdown",
   "metadata": {},
   "source": [
    "Эксцентричность вершины - максимальная длина пути из нее в другую вершину графа."
   ]
  },
  {
   "cell_type": "code",
   "execution_count": 25,
   "metadata": {},
   "outputs": [
    {
     "data": {
      "text/plain": [
       "{'A': 5,\n",
       " 'B': 4,\n",
       " 'C': 3,\n",
       " 'D': 4,\n",
       " 'E': 3,\n",
       " 'F': 3,\n",
       " 'G': 4,\n",
       " 'H': 4,\n",
       " 'I': 4,\n",
       " 'J': 5,\n",
       " 'K': 5}"
      ]
     },
     "execution_count": 25,
     "metadata": {},
     "output_type": "execute_result"
    }
   ],
   "source": [
    "nx.eccentricity(G1)"
   ]
  },
  {
   "cell_type": "markdown",
   "metadata": {},
   "source": [
    "Радиус графа - минимальная эксцентричность."
   ]
  },
  {
   "cell_type": "code",
   "execution_count": 27,
   "metadata": {},
   "outputs": [
    {
     "data": {
      "text/plain": [
       "3"
      ]
     },
     "execution_count": 27,
     "metadata": {},
     "output_type": "execute_result"
    }
   ],
   "source": [
    "nx.radius(G1)"
   ]
  },
  {
   "cell_type": "markdown",
   "metadata": {},
   "source": [
    "Периферия графа - вершины с эксцентричностью равной диаметру."
   ]
  },
  {
   "cell_type": "code",
   "execution_count": 28,
   "metadata": {},
   "outputs": [
    {
     "data": {
      "text/plain": [
       "['A', 'K', 'J']"
      ]
     },
     "execution_count": 28,
     "metadata": {},
     "output_type": "execute_result"
    }
   ],
   "source": [
    "nx.periphery(G1)"
   ]
  },
  {
   "cell_type": "markdown",
   "metadata": {},
   "source": [
    "Центр графа - вершины с минимальной эксцентричностью."
   ]
  },
  {
   "cell_type": "code",
   "execution_count": 29,
   "metadata": {},
   "outputs": [
    {
     "data": {
      "text/plain": [
       "['C', 'E', 'F']"
      ]
     },
     "execution_count": 29,
     "metadata": {},
     "output_type": "execute_result"
    }
   ],
   "source": [
    "nx.center(G1)"
   ]
  },
  {
   "cell_type": "code",
   "execution_count": 41,
   "metadata": {
    "collapsed": true
   },
   "outputs": [],
   "source": [
    "G1 = nx.convert_node_labels_to_integers(G, first_label=1) #Вершины в числа"
   ]
  },
  {
   "cell_type": "markdown",
   "metadata": {},
   "source": [
    "## Connectivity (связность)"
   ]
  },
  {
   "cell_type": "code",
   "execution_count": 43,
   "metadata": {},
   "outputs": [
    {
     "data": {
      "text/plain": [
       "False"
      ]
     },
     "execution_count": 43,
     "metadata": {},
     "output_type": "execute_result"
    }
   ],
   "source": [
    "nx.is_connected(G) #проверка на связность"
   ]
  },
  {
   "cell_type": "code",
   "execution_count": 46,
   "metadata": {},
   "outputs": [
    {
     "data": {
      "text/plain": [
       "2"
      ]
     },
     "execution_count": 46,
     "metadata": {},
     "output_type": "execute_result"
    }
   ],
   "source": [
    "nx.number_connected_components(G) #число компонент связности"
   ]
  },
  {
   "cell_type": "code",
   "execution_count": 48,
   "metadata": {},
   "outputs": [
    {
     "data": {
      "text/plain": [
       "[{'A', 'B', 'C', 'D', 'E', 'F', 'G', 'H', 'K'}, {'I', 'J'}]"
      ]
     },
     "execution_count": 48,
     "metadata": {},
     "output_type": "execute_result"
    }
   ],
   "source": [
    "sorted(nx.connected_components(G)) #компоненты связности"
   ]
  },
  {
   "cell_type": "code",
   "execution_count": 50,
   "metadata": {},
   "outputs": [
    {
     "data": {
      "text/plain": [
       "{'A', 'B', 'C', 'D', 'E', 'F', 'G', 'H', 'K'}"
      ]
     },
     "execution_count": 50,
     "metadata": {},
     "output_type": "execute_result"
    }
   ],
   "source": [
    "nx.node_connected_component(G, 'A') #компонента связности, в которую входит вершина А"
   ]
  },
  {
   "cell_type": "markdown",
   "metadata": {},
   "source": [
    "Связность направленного графа."
   ]
  },
  {
   "cell_type": "code",
   "execution_count": 55,
   "metadata": {
    "collapsed": true
   },
   "outputs": [],
   "source": [
    "G2 = nx.DiGraph()\n",
    "G2.add_edge('A', 'B')"
   ]
  },
  {
   "cell_type": "code",
   "execution_count": 56,
   "metadata": {},
   "outputs": [
    {
     "data": {
      "text/plain": [
       "False"
      ]
     },
     "execution_count": 56,
     "metadata": {},
     "output_type": "execute_result"
    }
   ],
   "source": [
    "nx.is_strongly_connected(G2)"
   ]
  },
  {
   "cell_type": "code",
   "execution_count": 57,
   "metadata": {},
   "outputs": [
    {
     "data": {
      "text/plain": [
       "True"
      ]
     },
     "execution_count": 57,
     "metadata": {},
     "output_type": "execute_result"
    }
   ],
   "source": [
    "nx.is_weakly_connected(G2)"
   ]
  },
  {
   "cell_type": "code",
   "execution_count": 62,
   "metadata": {},
   "outputs": [
    {
     "data": {
      "text/plain": [
       "[{'B'}, {'A'}]"
      ]
     },
     "execution_count": 62,
     "metadata": {},
     "output_type": "execute_result"
    }
   ],
   "source": [
    "sorted(nx.strongly_connected_components(G2))"
   ]
  },
  {
   "cell_type": "code",
   "execution_count": 63,
   "metadata": {},
   "outputs": [
    {
     "data": {
      "text/plain": [
       "[{'A', 'B'}]"
      ]
     },
     "execution_count": 63,
     "metadata": {},
     "output_type": "execute_result"
    }
   ],
   "source": [
    "sorted(nx.weakly_connected_components(G2))"
   ]
  },
  {
   "cell_type": "markdown",
   "metadata": {},
   "source": [
    "## Robustness (устойчивость)"
   ]
  },
  {
   "cell_type": "code",
   "execution_count": 64,
   "metadata": {},
   "outputs": [
    {
     "data": {
      "text/plain": [
       "1"
      ]
     },
     "execution_count": 64,
     "metadata": {},
     "output_type": "execute_result"
    }
   ],
   "source": [
    "nx.node_connectivity(G1) #минимальное количество вершин, которое надо удалить, чтобы нарушить связность графа"
   ]
  },
  {
   "cell_type": "code",
   "execution_count": 69,
   "metadata": {},
   "outputs": [
    {
     "data": {
      "text/plain": [
       "{'E'}"
      ]
     },
     "execution_count": 69,
     "metadata": {},
     "output_type": "execute_result"
    }
   ],
   "source": [
    "nx.minimum_node_cut(G1) #какие вершины надо удалить, чтобы нарушить связность графа"
   ]
  },
  {
   "cell_type": "code",
   "execution_count": 70,
   "metadata": {},
   "outputs": [
    {
     "data": {
      "text/plain": [
       "1"
      ]
     },
     "execution_count": 70,
     "metadata": {},
     "output_type": "execute_result"
    }
   ],
   "source": [
    "nx.edge_connectivity(G1) #минимальное количество рёбер, которое надо удалить, чтобы нарушить связность графа"
   ]
  },
  {
   "cell_type": "code",
   "execution_count": 71,
   "metadata": {},
   "outputs": [
    {
     "data": {
      "text/plain": [
       "{('C', 'B')}"
      ]
     },
     "execution_count": 71,
     "metadata": {},
     "output_type": "execute_result"
    }
   ],
   "source": [
    "nx.minimum_edge_cut(G1) #какие рёбра надо удалить, чтобы нарушить связность графа"
   ]
  },
  {
   "cell_type": "code",
   "execution_count": 78,
   "metadata": {},
   "outputs": [
    {
     "data": {
      "text/plain": [
       "[['A', 'B', 'C', 'E'],\n",
       " ['A', 'B', 'C', 'F', 'E'],\n",
       " ['A', 'C', 'E'],\n",
       " ['A', 'C', 'F', 'E'],\n",
       " ['A', 'K', 'B', 'C', 'E'],\n",
       " ['A', 'K', 'B', 'C', 'F', 'E']]"
      ]
     },
     "execution_count": 78,
     "metadata": {},
     "output_type": "execute_result"
    }
   ],
   "source": [
    "sorted(nx.all_simple_paths(G, 'A', 'E')) #все способы попасть из А в К"
   ]
  },
  {
   "cell_type": "code",
   "execution_count": 81,
   "metadata": {},
   "outputs": [
    {
     "data": {
      "text/plain": [
       "{'C'}"
      ]
     },
     "execution_count": 81,
     "metadata": {},
     "output_type": "execute_result"
    }
   ],
   "source": [
    "nx.node_connectivity(G1, 'A', 'E') #минимальное количество вершин, которое надо удалить, чтобы нарушить сообщение между вершинами А и К\n",
    "nx.minimum_node_cut(G1, 'A', 'E') #какие вершины надо удалить, чтобы нарушить сообщение между вершинами А и К"
   ]
  },
  {
   "cell_type": "code",
   "execution_count": 82,
   "metadata": {},
   "outputs": [
    {
     "data": {
      "text/plain": [
       "{('B', 'C')}"
      ]
     },
     "execution_count": 82,
     "metadata": {},
     "output_type": "execute_result"
    }
   ],
   "source": [
    "nx.edge_connectivity(G1) #минимальное количество рёбер, которое надо удалить, чтобы нарушить  сообщение между вершинами А и К\n",
    "nx.minimum_edge_cut(G1, 'A', 'E') #какие рёбра надо удалить, чтобы нарушить сообщение между вершинами А и К"
   ]
  },
  {
   "cell_type": "markdown",
   "metadata": {},
   "source": [
    "### Модуль Pickle"
   ]
  },
  {
   "cell_type": "code",
   "execution_count": 83,
   "metadata": {
    "collapsed": true
   },
   "outputs": [],
   "source": [
    "import pickle"
   ]
  },
  {
   "cell_type": "code",
   "execution_count": 84,
   "metadata": {
    "collapsed": true
   },
   "outputs": [],
   "source": [
    "with open('data.pickle', 'wb') as f: #to write down smth to a pickle file\n",
    "     pickle.dump(G, f)"
   ]
  },
  {
   "cell_type": "code",
   "execution_count": 86,
   "metadata": {
    "collapsed": true
   },
   "outputs": [],
   "source": [
    "with open('data.pickle', 'rb') as f: #to get smth from a pickle file\n",
    "    gpickle = pickle.load(f)"
   ]
  },
  {
   "cell_type": "code",
   "execution_count": 87,
   "metadata": {},
   "outputs": [
    {
     "data": {
      "text/plain": [
       "<networkx.classes.graph.Graph at 0xac0dc88>"
      ]
     },
     "execution_count": 87,
     "metadata": {},
     "output_type": "execute_result"
    }
   ],
   "source": [
    "gpickle"
   ]
  }
 ],
 "metadata": {
  "kernelspec": {
   "display_name": "Python 3",
   "language": "python",
   "name": "python3"
  },
  "language_info": {
   "codemirror_mode": {
    "name": "ipython",
    "version": 3
   },
   "file_extension": ".py",
   "mimetype": "text/x-python",
   "name": "python",
   "nbconvert_exporter": "python",
   "pygments_lexer": "ipython3",
   "version": "3.6.2"
  }
 },
 "nbformat": 4,
 "nbformat_minor": 2
}
