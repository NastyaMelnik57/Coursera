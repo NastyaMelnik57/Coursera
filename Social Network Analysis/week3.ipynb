{
 "cells": [
  {
   "cell_type": "code",
   "execution_count": 31,
   "metadata": {},
   "outputs": [],
   "source": [
    "import networkx as nx\n",
    "import operator"
   ]
  },
  {
   "cell_type": "markdown",
   "metadata": {
    "collapsed": true
   },
   "source": [
    "Способы найти \"важные\" вершины:\n",
    "    - по количеству соседей (degree centrality)\n",
    "    - по близости к другим вершинам (closeness degree)\n",
    "    - по тому, как они связывают другие вершины между собой\n",
    "\n",
    "Выбор зависит от типа сети."
   ]
  },
  {
   "cell_type": "markdown",
   "metadata": {},
   "source": [
    "### Degree centrality"
   ]
  },
  {
   "cell_type": "code",
   "execution_count": 3,
   "metadata": {},
   "outputs": [],
   "source": [
    "G = nx.karate_club_graph()\n",
    "G = nx.convert_node_labels_to_integers(G, first_label=1)"
   ]
  },
  {
   "cell_type": "code",
   "execution_count": 4,
   "metadata": {},
   "outputs": [],
   "source": [
    "degCent = nx.degree_centrality(G)"
   ]
  },
  {
   "cell_type": "code",
   "execution_count": 5,
   "metadata": {},
   "outputs": [
    {
     "data": {
      "text/plain": [
       "0.5151515151515151"
      ]
     },
     "execution_count": 5,
     "metadata": {},
     "output_type": "execute_result"
    }
   ],
   "source": [
    "degCent[34]"
   ]
  },
  {
   "cell_type": "markdown",
   "metadata": {},
   "source": [
    "Degree centrality в направленном графе:\n",
    "    - indegree centrality\n",
    "    - outdegree centrality"
   ]
  },
  {
   "cell_type": "code",
   "execution_count": null,
   "metadata": {},
   "outputs": [],
   "source": [
    "indegCent = nx.in_degree_centrality(G)\n",
    "outdegCent = nx.out_degree_centrality(G)"
   ]
  },
  {
   "cell_type": "markdown",
   "metadata": {},
   "source": [
    "### Closeness centrality"
   ]
  },
  {
   "cell_type": "markdown",
   "metadata": {},
   "source": [
    "- между любыми двумя вершинами есть путь"
   ]
  },
  {
   "cell_type": "code",
   "execution_count": 8,
   "metadata": {},
   "outputs": [],
   "source": [
    "closeCent = nx.closeness_centrality(G)"
   ]
  },
  {
   "cell_type": "code",
   "execution_count": 11,
   "metadata": {},
   "outputs": [
    {
     "data": {
      "text/plain": [
       "0.55"
      ]
     },
     "execution_count": 11,
     "metadata": {},
     "output_type": "execute_result"
    }
   ],
   "source": [
    "closeCent[34]"
   ]
  },
  {
   "cell_type": "code",
   "execution_count": 19,
   "metadata": {},
   "outputs": [
    {
     "data": {
      "text/plain": [
       "0.55"
      ]
     },
     "execution_count": 19,
     "metadata": {},
     "output_type": "execute_result"
    }
   ],
   "source": [
    "(len(G.nodes())-1) / sum(nx.shortest_path_length(G, 34).values()) #по формуле"
   ]
  },
  {
   "cell_type": "markdown",
   "metadata": {},
   "source": [
    "- Не между любыми двумя вершинами есть путь."
   ]
  },
  {
   "cell_type": "markdown",
   "metadata": {},
   "source": [
    "Option 1: учитывать только те вершины, в которые из v есть путь"
   ]
  },
  {
   "cell_type": "code",
   "execution_count": null,
   "metadata": {},
   "outputs": [],
   "source": [
    "nx.closeness_centrality(G, normalized=False)"
   ]
  },
  {
   "cell_type": "markdown",
   "metadata": {},
   "source": [
    "Option 2:  учитывать долю вершин, в которые из v есть путь, от всех вершин"
   ]
  },
  {
   "cell_type": "code",
   "execution_count": null,
   "metadata": {},
   "outputs": [],
   "source": [
    "nx.closeness_centrality(G, normalized=True)"
   ]
  },
  {
   "cell_type": "markdown",
   "metadata": {},
   "source": [
    "### Betweenness centrality"
   ]
  },
  {
   "cell_type": "code",
   "execution_count": 23,
   "metadata": {},
   "outputs": [],
   "source": [
    "btwnCent = nx.betweenness_centrality(G, normalized=True, endpoints=False)"
   ]
  },
  {
   "cell_type": "code",
   "execution_count": 40,
   "metadata": {},
   "outputs": [
    {
     "data": {
      "text/plain": [
       "[(1, 0.43763528138528146),\n",
       " (34, 0.30407497594997596),\n",
       " (33, 0.145247113997114),\n",
       " (3, 0.14365680615680618),\n",
       " (32, 0.13827561327561325)]"
      ]
     },
     "execution_count": 40,
     "metadata": {},
     "output_type": "execute_result"
    }
   ],
   "source": [
    "sorted(btwnCent.items(), key=operator.itemgetter(1), reverse=True)[0:5]"
   ]
  },
  {
   "cell_type": "markdown",
   "metadata": {},
   "source": [
    "Чтобы ускорить вычисление, можно задавать количество вершин в цикле:"
   ]
  },
  {
   "cell_type": "code",
   "execution_count": 28,
   "metadata": {},
   "outputs": [],
   "source": [
    "btwnCent_approx10 = nx.betweenness_centrality(G, normalized=True, endpoints=False, k=10)"
   ]
  },
  {
   "cell_type": "code",
   "execution_count": 29,
   "metadata": {},
   "outputs": [
    {
     "data": {
      "text/plain": [
       "0.2528816438191438"
      ]
     },
     "execution_count": 29,
     "metadata": {},
     "output_type": "execute_result"
    }
   ],
   "source": [
    "btwnCent_approx10[34]"
   ]
  },
  {
   "cell_type": "markdown",
   "metadata": {},
   "source": [
    "Приближенный результат вполне похож на точный:"
   ]
  },
  {
   "cell_type": "code",
   "execution_count": 39,
   "metadata": {},
   "outputs": [
    {
     "data": {
      "text/plain": [
       "[(1, 0.5072760341510342),\n",
       " (34, 0.2528816438191438),\n",
       " (33, 0.1270911495911496),\n",
       " (3, 0.10221771284271285),\n",
       " (2, 0.1005848665223665)]"
      ]
     },
     "execution_count": 39,
     "metadata": {},
     "output_type": "execute_result"
    }
   ],
   "source": [
    "sorted(btwnCent_approx10.items(), key=operator.itemgetter(1), reverse=True)[0:5]"
   ]
  },
  {
   "cell_type": "code",
   "execution_count": null,
   "metadata": {},
   "outputs": [],
   "source": [
    "btwnCent_approx10.items() #list of tuples [(key, value)]"
   ]
  },
  {
   "cell_type": "markdown",
   "metadata": {},
   "source": [
    "Для двух подграфов можно найти наиболее важные для их связывания вершины:"
   ]
  },
  {
   "cell_type": "code",
   "execution_count": 41,
   "metadata": {},
   "outputs": [],
   "source": [
    "btwnCent_subset = nx.betweenness_centrality_subset(G, [34, 33, 21, 30], [1, 4, 13, 11], \n",
    "                                                   normalized=True)"
   ]
  },
  {
   "cell_type": "code",
   "execution_count": 42,
   "metadata": {},
   "outputs": [
    {
     "data": {
      "text/plain": [
       "[(1, 0.0067287457912457915),\n",
       " (34, 0.004163660413660414),\n",
       " (3, 0.003960738335738335),\n",
       " (14, 0.0037082130832130833),\n",
       " (33, 0.003412097162097162)]"
      ]
     },
     "execution_count": 42,
     "metadata": {},
     "output_type": "execute_result"
    }
   ],
   "source": [
    "sorted(btwnCent_subset.items(), key=operator.itemgetter(1), reverse=True)[0:5]"
   ]
  },
  {
   "cell_type": "markdown",
   "metadata": {},
   "source": [
    "Вместо важных вершин можно искать важные рёбра:"
   ]
  },
  {
   "cell_type": "code",
   "execution_count": 48,
   "metadata": {},
   "outputs": [
    {
     "data": {
      "text/plain": [
       "0.02681436210847975"
      ]
     },
     "execution_count": 48,
     "metadata": {},
     "output_type": "execute_result"
    }
   ],
   "source": [
    "btwnCent_edge = nx.edge_betweenness_centrality(G, normalized=True)\n",
    "btwnCent_edge[(31, 34)]"
   ]
  },
  {
   "cell_type": "code",
   "execution_count": 49,
   "metadata": {},
   "outputs": [],
   "source": [
    "btwnCent_edge_subset = nx.edge_betweenness_centrality_subset(G, [34, 33, 21, 30], [1, 4, 13, 11], \n",
    "                                                   normalized=True)"
   ]
  },
  {
   "cell_type": "code",
   "execution_count": 50,
   "metadata": {},
   "outputs": [
    {
     "data": {
      "text/plain": [
       "[((3, 33), 0.003727753727753727),\n",
       " ((1, 11), 0.0035650623885918),\n",
       " ((14, 34), 0.0034900829018476073),\n",
       " ((1, 9), 0.0028555866791160904),\n",
       " ((1, 32), 0.0028555866791160904)]"
      ]
     },
     "execution_count": 50,
     "metadata": {},
     "output_type": "execute_result"
    }
   ],
   "source": [
    "sorted(btwnCent_edge_subset.items(), key=operator.itemgetter(1), reverse=True)[0:5]"
   ]
  },
  {
   "cell_type": "code",
   "execution_count": 52,
   "metadata": {},
   "outputs": [
    {
     "data": {
      "text/plain": [
       "({1: 0.07141272875773573,\n",
       "  2: 0.053427231205172614,\n",
       "  3: 0.06371906453963268,\n",
       "  4: 0.04242273710428976,\n",
       "  5: 0.01526095969815266,\n",
       "  6: 0.015966913494418547,\n",
       "  7: 0.015966913494418547,\n",
       "  8: 0.034343167206797434,\n",
       "  9: 0.0456819251308063,\n",
       "  10: 0.020625667757182626,\n",
       "  11: 0.01526095969815266,\n",
       "  12: 0.01061789150852051,\n",
       "  13: 0.01692545078543599,\n",
       "  14: 0.04549486406600547,\n",
       "  15: 0.020370345842716076,\n",
       "  16: 0.020370345842716076,\n",
       "  17: 0.004748031841562519,\n",
       "  18: 0.018561637031907358,\n",
       "  19: 0.020370345842716076,\n",
       "  20: 0.02971333389111539,\n",
       "  21: 0.020370345842716076,\n",
       "  22: 0.018561637031907358,\n",
       "  23: 0.020370345842716076,\n",
       "  24: 0.030156497528902444,\n",
       "  25: 0.011460952230139869,\n",
       "  26: 0.01189366439609368,\n",
       "  27: 0.015182734341447207,\n",
       "  28: 0.02681349412708363,\n",
       "  29: 0.0263315057833753,\n",
       "  30: 0.027111539646424865,\n",
       "  31: 0.03510623798827733,\n",
       "  32: 0.03837574188047834,\n",
       "  33: 0.06200184647463986,\n",
       "  34: 0.07500294214634279},\n",
       " {1: 0.07141272880870855,\n",
       "  2: 0.05342723122870397,\n",
       "  3: 0.06371906455587135,\n",
       "  4: 0.04242273710611524,\n",
       "  5: 0.015260959692251741,\n",
       "  6: 0.01596691348769785,\n",
       "  7: 0.01596691348769785,\n",
       "  8: 0.03434316719678568,\n",
       "  9: 0.045681925113766106,\n",
       "  10: 0.020625667747004237,\n",
       "  11: 0.015260959692251741,\n",
       "  12: 0.010617891499780771,\n",
       "  13: 0.016925450777611116,\n",
       "  14: 0.045494864044925934,\n",
       "  15: 0.02037034582705704,\n",
       "  16: 0.02037034582705704,\n",
       "  17: 0.004748031844529441,\n",
       "  18: 0.01856163702009135,\n",
       "  19: 0.02037034582705704,\n",
       "  20: 0.029713333868231606,\n",
       "  21: 0.02037034582705704,\n",
       "  22: 0.01856163702009135,\n",
       "  23: 0.02037034582705704,\n",
       "  24: 0.030156497522138854,\n",
       "  25: 0.011460952243147787,\n",
       "  26: 0.011893664411194165,\n",
       "  27: 0.015182734336172116,\n",
       "  28: 0.026813494122100573,\n",
       "  29: 0.026331505783102067,\n",
       "  30: 0.02711153964098065,\n",
       "  31: 0.03510623797808329,\n",
       "  32: 0.03837574185646307,\n",
       "  33: 0.06200184653550559,\n",
       "  34: 0.0750029422437107})"
      ]
     },
     "execution_count": 52,
     "metadata": {},
     "output_type": "execute_result"
    }
   ],
   "source": [
    "nx.hits(G) #алгоритм HITS"
   ]
  },
  {
   "cell_type": "code",
   "execution_count": 54,
   "metadata": {},
   "outputs": [],
   "source": [
    "G_test = nx.DiGraph()\n",
    "G_test.add_edges_from([('A', 'B'), ('B', 'A'), ('A', 'C'), ('C', 'D'), ('D', 'C')])"
   ]
  },
  {
   "cell_type": "code",
   "execution_count": 60,
   "metadata": {},
   "outputs": [
    {
     "name": "stdout",
     "output_type": "stream",
     "text": [
      "0.3214282989501953\n",
      "0.4390741390007211\n",
      "0.3970582936941615\n",
      "0.46639949368052747\n"
     ]
    }
   ],
   "source": [
    "for i in [0.5, 0.9, 0.8, 0.95]:\n",
    "    print(nx.pagerank(G_test, alpha=i)['C'])"
   ]
  },
  {
   "cell_type": "code",
   "execution_count": null,
   "metadata": {},
   "outputs": [],
   "source": []
  }
 ],
 "metadata": {
  "kernelspec": {
   "display_name": "Python 3",
   "language": "python",
   "name": "python3"
  },
  "language_info": {
   "codemirror_mode": {
    "name": "ipython",
    "version": 3
   },
   "file_extension": ".py",
   "mimetype": "text/x-python",
   "name": "python",
   "nbconvert_exporter": "python",
   "pygments_lexer": "ipython3",
   "version": "3.6.3"
  }
 },
 "nbformat": 4,
 "nbformat_minor": 2
}
