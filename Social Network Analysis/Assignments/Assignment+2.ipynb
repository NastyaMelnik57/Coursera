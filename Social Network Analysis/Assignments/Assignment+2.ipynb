{
 "cells": [
  {
   "cell_type": "markdown",
   "metadata": {},
   "source": [
    "---\n",
    "\n",
    "_You are currently looking at **version 1.2** of this notebook. To download notebooks and datafiles, as well as get help on Jupyter notebooks in the Coursera platform, visit the [Jupyter Notebook FAQ](https://www.coursera.org/learn/python-social-network-analysis/resources/yPcBs) course resource._\n",
    "\n",
    "---"
   ]
  },
  {
   "cell_type": "markdown",
   "metadata": {},
   "source": [
    "# Assignment 2 - Network Connectivity\n",
    "\n",
    "In this assignment you will go through the process of importing and analyzing an internal email communication network between employees of a mid-sized manufacturing company. \n",
    "Each node represents an employee and each directed edge between two nodes represents an individual email. The left node represents the sender and the right node represents the recipient."
   ]
  },
  {
   "cell_type": "code",
   "execution_count": 1,
   "metadata": {
    "collapsed": true
   },
   "outputs": [],
   "source": [
    "import networkx as nx\n",
    "from networkx.algorithms.connectivity import minimum_st_node_cut \n",
    "# This line must be commented out when submitting to the autograder\n",
    "#!head email_network.txt"
   ]
  },
  {
   "cell_type": "markdown",
   "metadata": {},
   "source": [
    "### Question 1\n",
    "\n",
    "Using networkx, load up the directed multigraph from `email_network.txt`. Make sure the node names are strings.\n",
    "\n",
    "*This function should return a directed multigraph networkx graph.*"
   ]
  },
  {
   "cell_type": "code",
   "execution_count": 11,
   "metadata": {
    "collapsed": true
   },
   "outputs": [],
   "source": [
    "def answer_one():\n",
    "    \n",
    "    G = nx.read_edgelist('email_network.txt', nodetype=str, data=[('time', int)], \n",
    "                         create_using=nx.MultiDiGraph())\n",
    "    return G"
   ]
  },
  {
   "cell_type": "markdown",
   "metadata": {},
   "source": [
    "### Question 2\n",
    "\n",
    "How many employees and emails are represented in the graph from Question 1?\n",
    "\n",
    "*This function should return a tuple (#employees, #emails).*"
   ]
  },
  {
   "cell_type": "code",
   "execution_count": 12,
   "metadata": {
    "collapsed": true
   },
   "outputs": [],
   "source": [
    "def answer_two():\n",
    "    G = answer_one()    \n",
    "    emails = G.edges()\n",
    "    employees = G.nodes()\n",
    "    return (len(employees), len(emails))"
   ]
  },
  {
   "cell_type": "markdown",
   "metadata": {},
   "source": [
    "### Question 3\n",
    "\n",
    "* Part 1. Assume that information in this company can only be exchanged through email.\n",
    "\n",
    "    When an employee sends an email to another employee, a communication channel has been created, allowing the sender to provide information to the receiver, but not vice versa. \n",
    "\n",
    "    Based on the emails sent in the data, is it possible for information to go from every employee to every other employee?\n",
    "\n",
    "\n",
    "* Part 2. Now assume that a communication channel established by an email allows information to be exchanged both ways. \n",
    "\n",
    "    Based on the emails sent in the data, is it possible for information to go from every employee to every other employee?\n",
    "\n",
    "\n",
    "*This function should return a tuple of bools (part1, part2).*"
   ]
  },
  {
   "cell_type": "code",
   "execution_count": 13,
   "metadata": {
    "collapsed": true
   },
   "outputs": [],
   "source": [
    "def answer_three():\n",
    "    \n",
    "    G = answer_one()\n",
    "    part1 = nx.is_strongly_connected(G)\n",
    "    part2 = nx.is_weakly_connected(G)\n",
    "    \n",
    "    return (part1, part2)"
   ]
  },
  {
   "cell_type": "markdown",
   "metadata": {},
   "source": [
    "### Question 4\n",
    "\n",
    "How many nodes are in the largest (in terms of nodes) weakly connected component?\n",
    "\n",
    "*This function should return an int.*"
   ]
  },
  {
   "cell_type": "code",
   "execution_count": 14,
   "metadata": {
    "collapsed": true,
    "scrolled": true
   },
   "outputs": [],
   "source": [
    "def answer_four():\n",
    "    \n",
    "    G = answer_one()\n",
    "    n = max([len(i) for i in list(nx.weakly_connected_components(G))])\n",
    "    \n",
    "    return n"
   ]
  },
  {
   "cell_type": "markdown",
   "metadata": {},
   "source": [
    "### Question 5\n",
    "\n",
    "How many nodes are in the largest (in terms of nodes) strongly connected component?\n",
    "\n",
    "*This function should return an int*"
   ]
  },
  {
   "cell_type": "code",
   "execution_count": 15,
   "metadata": {
    "collapsed": true
   },
   "outputs": [],
   "source": [
    "def answer_five():\n",
    "        \n",
    "    G = answer_one()\n",
    "    m = max([len(i) for i in list(nx.strongly_connected_components(G))])\n",
    "    \n",
    "    return m"
   ]
  },
  {
   "cell_type": "markdown",
   "metadata": {},
   "source": [
    "### Question 6\n",
    "\n",
    "Using the NetworkX function strongly_connected_component_subgraphs, find the subgraph of nodes in a largest strongly connected component. \n",
    "Call this graph G_sc.\n",
    "\n",
    "*This function should return a networkx MultiDiGraph named G_sc.*"
   ]
  },
  {
   "cell_type": "code",
   "execution_count": 16,
   "metadata": {
    "collapsed": true
   },
   "outputs": [],
   "source": [
    "def answer_six():\n",
    "     \n",
    "    G = answer_one()    \n",
    "    scs = list(nx.strongly_connected_component_subgraphs(G))\n",
    "    node_lens = [len(i.nodes()) for i in scs]\n",
    "    G_sc = scs[node_lens.index(max(node_lens))]\n",
    "    return G_sc"
   ]
  },
  {
   "cell_type": "markdown",
   "metadata": {},
   "source": [
    "### Question 7\n",
    "\n",
    "What is the average distance between nodes in G_sc?\n",
    "\n",
    "*This function should return a float.*"
   ]
  },
  {
   "cell_type": "code",
   "execution_count": 17,
   "metadata": {
    "collapsed": true
   },
   "outputs": [],
   "source": [
    "def answer_seven():\n",
    "        \n",
    "    ad = nx.average_shortest_path_length(answer_six())\n",
    "    \n",
    "    return ad"
   ]
  },
  {
   "cell_type": "markdown",
   "metadata": {},
   "source": [
    "### Question 8\n",
    "\n",
    "What is the largest possible distance between two employees in G_sc?\n",
    "\n",
    "*This function should return an int.*"
   ]
  },
  {
   "cell_type": "code",
   "execution_count": 18,
   "metadata": {
    "collapsed": true
   },
   "outputs": [],
   "source": [
    "def answer_eight():\n",
    "        \n",
    "    G_sc = answer_six()\n",
    "    maxd = nx.diameter(G_sc)\n",
    "    \n",
    "    return maxd"
   ]
  },
  {
   "cell_type": "markdown",
   "metadata": {},
   "source": [
    "### Question 9\n",
    "\n",
    "What is the set of nodes in G_sc with eccentricity equal to the diameter?\n",
    "\n",
    "*This function should return a set of the node(s).*"
   ]
  },
  {
   "cell_type": "code",
   "execution_count": 19,
   "metadata": {
    "collapsed": true
   },
   "outputs": [],
   "source": [
    "def answer_nine():\n",
    "    \n",
    "    G_sc = answer_six()\n",
    "    periphery_nodes = nx.periphery(G_sc)\n",
    "    \n",
    "    return set(periphery_nodes)"
   ]
  },
  {
   "cell_type": "markdown",
   "metadata": {},
   "source": [
    "### Question 10\n",
    "\n",
    "What is the set of node(s) in G_sc with eccentricity equal to the radius?\n",
    "\n",
    "*This function should return a set of the node(s).*"
   ]
  },
  {
   "cell_type": "code",
   "execution_count": 20,
   "metadata": {
    "collapsed": true
   },
   "outputs": [],
   "source": [
    "def answer_ten():\n",
    "        \n",
    "    G_sc = answer_six()\n",
    "    center_nodes = nx.center(G_sc)\n",
    "    \n",
    "    return set(center_nodes)"
   ]
  },
  {
   "cell_type": "markdown",
   "metadata": {},
   "source": [
    "### Question 11\n",
    "\n",
    "Which node in G_sc is connected to the most other nodes by a shortest path of length equal to the diameter of G_sc?\n",
    "\n",
    "How many nodes are connected to this node?\n",
    "\n",
    "\n",
    "*This function should return a tuple (name of node, number of satisfied connected nodes).*"
   ]
  },
  {
   "cell_type": "code",
   "execution_count": 83,
   "metadata": {
    "collapsed": true
   },
   "outputs": [],
   "source": [
    "def answer_eleven():\n",
    "        \n",
    "    G_sc = answer_six()\n",
    "    d = answer_eight()\n",
    "    node_and_its_sh_path_length_diam = {}\n",
    "    for node in G_sc.nodes():\n",
    "        sh_pathes_lens = nx.shortest_path_length(G, source=node)\n",
    "        sh_pathes_diameter = list(sh_pathes_lens.values()).count(d)\n",
    "        node_and_its_sh_path_length_diam[node] = sh_pathes_diameter\n",
    "    node, neighbors = max(node_and_its_sh_path_length_diam.items(), key=lambda x:x[1])\n",
    "    return (node, len(G_sc.neighbors(node)))"
   ]
  },
  {
   "cell_type": "code",
   "execution_count": 89,
   "metadata": {},
   "outputs": [
    {
     "data": {
      "text/plain": [
       "{'166': 0}"
      ]
     },
     "execution_count": 89,
     "metadata": {},
     "output_type": "execute_result"
    }
   ],
   "source": [
    "G_sc = answer_six()\n",
    "d = answer_eight()\n",
    "nx.shortest_path_length(G, '166')"
   ]
  },
  {
   "cell_type": "markdown",
   "metadata": {},
   "source": [
    "### Question 12\n",
    "\n",
    "Suppose you want to prevent communication from flowing to the node that you found in the previous question from any node in the center of G_sc, what is the smallest number of nodes you would need to remove from the graph (you're not allowed to remove the node from the previous question or the center nodes)? \n",
    "\n",
    "*This function should return an integer.*"
   ]
  },
  {
   "cell_type": "code",
   "execution_count": 85,
   "metadata": {
    "collapsed": true
   },
   "outputs": [],
   "source": [
    "def answer_twelve():   \n",
    "    G_sc = answer_six()\n",
    "    center_nodes = answer_ten()\n",
    "    target_node = answer_eleven()[0]\n",
    "    print(center_nodes, target_node)\n",
    "    cuts = set()\n",
    "    for node in center_nodes:\n",
    "        cuts |= set(minimum_st_node_cut(answer_six(), s=node, t=target_node))\n",
    "    \n",
    "    return len(cuts)"
   ]
  },
  {
   "cell_type": "markdown",
   "metadata": {},
   "source": [
    "### Question 13\n",
    "\n",
    "Construct an undirected graph G_un using G_sc (you can ignore the attributes).\n",
    "\n",
    "*This function should return a networkx Graph.*"
   ]
  },
  {
   "cell_type": "code",
   "execution_count": 61,
   "metadata": {
    "collapsed": true
   },
   "outputs": [],
   "source": [
    "def answer_thirteen():\n",
    "    \n",
    "    G_sc = answer_six()\n",
    "    G_un = nx.Graph(G_sc)\n",
    "    \n",
    "    return G_un"
   ]
  },
  {
   "cell_type": "markdown",
   "metadata": {},
   "source": [
    "### Question 14\n",
    "\n",
    "What is the transitivity and average clustering coefficient of graph G_un?\n",
    "\n",
    "*This function should return a tuple (transitivity, avg clustering).*"
   ]
  },
  {
   "cell_type": "code",
   "execution_count": 67,
   "metadata": {
    "collapsed": true
   },
   "outputs": [],
   "source": [
    "def answer_fourteen():\n",
    "        \n",
    "    G_un = answer_thirteen()\n",
    "    transitivity = nx.transitivity(G_un)\n",
    "    avg_clust_coeff = nx.average_clustering(G_un)\n",
    "    \n",
    "    return (transitivity,avg_clust_coeff)"
   ]
  }
 ],
 "metadata": {
  "coursera": {
   "course_slug": "python-social-network-analysis",
   "graded_item_id": "jMCHR",
   "launcher_item_id": "7RsKp",
   "part_id": "E9gn5"
  },
  "kernelspec": {
   "display_name": "Python 3",
   "language": "python",
   "name": "python3"
  },
  "language_info": {
   "codemirror_mode": {
    "name": "ipython",
    "version": 3
   },
   "file_extension": ".py",
   "mimetype": "text/x-python",
   "name": "python",
   "nbconvert_exporter": "python",
   "pygments_lexer": "ipython3",
   "version": "3.6.2"
  }
 },
 "nbformat": 4,
 "nbformat_minor": 2
}
